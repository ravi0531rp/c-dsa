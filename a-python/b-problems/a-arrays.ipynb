{
 "cells": [
  {
   "cell_type": "code",
   "execution_count": 2,
   "metadata": {},
   "outputs": [
    {
     "name": "stdout",
     "output_type": "stream",
     "text": [
      "1 0 1 \n",
      "0 0 0 \n",
      "1 0 1 \n"
     ]
    }
   ],
   "source": [
    "def zeroMatrix(matrix, n, m):\n",
    "    row = [0] * n  \n",
    "    col = [0] * m \n",
    "\n",
    "    for i in range(n):\n",
    "        for j in range(m):\n",
    "            if matrix[i][j] == 0:\n",
    "                row[i] = 1\n",
    "                col[j] = 1\n",
    "\n",
    "    for i in range(n):\n",
    "        for j in range(m):\n",
    "            if row[i] or col[j]:\n",
    "                matrix[i][j] = 0\n",
    "\n",
    "    return matrix\n",
    "\n",
    "\n",
    "matrix = [[1, 1, 1], [1, 0, 1], [1, 1, 1]]\n",
    "n = len(matrix)\n",
    "m = len(matrix[0])\n",
    "ans = zeroMatrix(matrix, n, m)\n",
    "\n",
    "for row in ans:\n",
    "    for ele in row:\n",
    "        print(ele, end=\" \")\n",
    "    print()\n"
   ]
  },
  {
   "cell_type": "code",
   "execution_count": 1,
   "metadata": {},
   "outputs": [
    {
     "name": "stdout",
     "output_type": "stream",
     "text": [
      "(6, [4, -1, 2, 1, -5, 4])\n"
     ]
    }
   ],
   "source": [
    "import sys\n",
    "\n",
    "def func(nums):\n",
    "    start_index = 0\n",
    "    end_index = 0\n",
    "    max_sum = -sys.maxsize\n",
    "    curr_sum = nums[0]\n",
    "    \n",
    "    for i in range(1, len(nums)):\n",
    "\n",
    "        curr_sum += nums[i]\n",
    "        max_sum = max(max_sum, curr_sum)\n",
    "        if curr_sum < 0:\n",
    "            curr_sum = 0\n",
    "            end_index = i \n",
    "            if nums[i] > 0:\n",
    "                start_index = i      \n",
    "        else:\n",
    "            end_index += 1\n",
    "        \n",
    "    return max_sum, (nums[start_index : end_index])\n",
    "    \n",
    "    \n",
    "if __name__ == \"__main__\":\n",
    "    nums = [-2, 1, 4, -3, -1, 2, 1, -5, 4]\n",
    "    print(func(nums))"
   ]
  },
  {
   "cell_type": "code",
   "execution_count": null,
   "metadata": {},
   "outputs": [],
   "source": [
    "import sys\n",
    "class Solution:\n",
    "    def maxSubArray(self, nums: List[int]) -> int:\n",
    "        max_sum = -4294967296\n",
    "        curr_sum = nums[0]\n",
    "        if len(nums) == 1:\n",
    "            return nums[0]\n",
    "        \n",
    "        for i in range(1, len(nums)):\n",
    "            curr_sum += nums[i]\n",
    "            max_sum = max(max_sum, curr_sum, nums[i])\n",
    "            if curr_sum < 0:\n",
    "                curr_sum = 0\n",
    "            \n",
    "        return max_sum"
   ]
  }
 ],
 "metadata": {
  "kernelspec": {
   "display_name": "llama2",
   "language": "python",
   "name": "python3"
  },
  "language_info": {
   "codemirror_mode": {
    "name": "ipython",
    "version": 3
   },
   "file_extension": ".py",
   "mimetype": "text/x-python",
   "name": "python",
   "nbconvert_exporter": "python",
   "pygments_lexer": "ipython3",
   "version": "3.10.14"
  }
 },
 "nbformat": 4,
 "nbformat_minor": 2
}
