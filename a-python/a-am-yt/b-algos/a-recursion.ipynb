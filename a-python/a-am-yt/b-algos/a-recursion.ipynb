{
 "cells": [
  {
   "cell_type": "code",
   "execution_count": 1,
   "metadata": {},
   "outputs": [
    {
     "name": "stdout",
     "output_type": "stream",
     "text": [
      "24\n",
      "24\n"
     ]
    }
   ],
   "source": [
    "## 1. Calculate Factorial Using Recursion\n",
    "\n",
    "\n",
    "def factorial(number):\n",
    "    fact = 1\n",
    "    count = 1\n",
    "    while count <= number:\n",
    "        fact = fact * count\n",
    "        count += 1\n",
    "    return fact\n",
    "    \n",
    "print(factorial(4))\n",
    "        \n",
    "        \n",
    "def factorial_rec(num):\n",
    "    if num == 0 or num == 1:\n",
    "        return 1\n",
    "    return num * factorial_rec(num - 1)\n",
    "    \n",
    "print(factorial_rec(4))"
   ]
  },
  {
   "cell_type": "code",
   "execution_count": 2,
   "metadata": {},
   "outputs": [
    {
     "name": "stdout",
     "output_type": "stream",
     "text": [
      "55\n"
     ]
    }
   ],
   "source": [
    "## 2. print Fibonacci Series Using recursion\n",
    "\n",
    "def fibo(n):\n",
    "    if n == 1 or n == 2:\n",
    "        return 1\n",
    "    return fibo(n-1) + fibo(n - 2)\n",
    "    \n",
    "print(fibo(10))"
   ]
  },
  {
   "cell_type": "code",
   "execution_count": 4,
   "metadata": {},
   "outputs": [
    {
     "name": "stdout",
     "output_type": "stream",
     "text": [
      "edcba\n"
     ]
    }
   ],
   "source": [
    "## 3. Reverse a string abcde to edcba\n",
    "\n",
    "def rev(data):\n",
    "    if len(data) == 1:\n",
    "        return data\n",
    "    else:\n",
    "        return data[-1] + rev(data[:-1])\n",
    "        \n",
    "print(rev(\"abcde\"))"
   ]
  },
  {
   "cell_type": "code",
   "execution_count": 3,
   "metadata": {},
   "outputs": [
    {
     "name": "stdout",
     "output_type": "stream",
     "text": [
      "16\n"
     ]
    }
   ],
   "source": [
    "## 4. Power of a number x^number\n",
    "\n",
    "def power(x, n):\n",
    "    if n == 0:\n",
    "        return 1\n",
    "    return x*power(x, n-1)\n",
    "    \n",
    "    \n",
    "print(power(2,4))"
   ]
  },
  {
   "cell_type": "code",
   "execution_count": 5,
   "metadata": {},
   "outputs": [
    {
     "name": "stdout",
     "output_type": "stream",
     "text": [
      "4\n"
     ]
    }
   ],
   "source": [
    "## 5. Greatest Common Divisor (GCD) ; gcd(12,8)\n",
    "\n",
    "def gcd(num1, num2):\n",
    "    if num2 == 0:\n",
    "        return num1\n",
    "    return gcd(num2, num1%num2)\n",
    "    \n",
    "print(gcd(12,8))"
   ]
  },
  {
   "cell_type": "code",
   "execution_count": null,
   "metadata": {},
   "outputs": [],
   "source": []
  },
  {
   "cell_type": "code",
   "execution_count": null,
   "metadata": {},
   "outputs": [],
   "source": []
  },
  {
   "cell_type": "code",
   "execution_count": null,
   "metadata": {},
   "outputs": [],
   "source": []
  },
  {
   "cell_type": "code",
   "execution_count": null,
   "metadata": {},
   "outputs": [],
   "source": []
  },
  {
   "cell_type": "code",
   "execution_count": null,
   "metadata": {},
   "outputs": [],
   "source": []
  }
 ],
 "metadata": {
  "kernelspec": {
   "display_name": "llama2",
   "language": "python",
   "name": "python3"
  },
  "language_info": {
   "codemirror_mode": {
    "name": "ipython",
    "version": 3
   },
   "file_extension": ".py",
   "mimetype": "text/x-python",
   "name": "python",
   "nbconvert_exporter": "python",
   "pygments_lexer": "ipython3",
   "version": "3.10.14"
  }
 },
 "nbformat": 4,
 "nbformat_minor": 2
}
