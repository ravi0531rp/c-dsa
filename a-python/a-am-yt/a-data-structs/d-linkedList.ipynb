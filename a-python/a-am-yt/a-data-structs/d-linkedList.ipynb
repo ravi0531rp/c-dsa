{
 "cells": [
  {
   "cell_type": "code",
   "execution_count": 1,
   "metadata": {},
   "outputs": [],
   "source": [
    "class Node:\n",
    "    def __init__(self, data):\n",
    "        self.data = data\n",
    "        self.next = None\n",
    "\n",
    "    def __repr__(self):\n",
    "        return f\"Node({self.data})\"\n"
   ]
  },
  {
   "cell_type": "code",
   "execution_count": 2,
   "metadata": {},
   "outputs": [],
   "source": [
    "class LinkedList:\n",
    "    def __init__(self):\n",
    "        self.head = None\n",
    "\n",
    "    def append(self, data):\n",
    "        new_node = Node(data)\n",
    "        if not self.head:\n",
    "            self.head = new_node\n",
    "            return\n",
    "        last_node = self.head\n",
    "        while last_node.next:\n",
    "            last_node = last_node.next\n",
    "        last_node.next = new_node\n",
    "\n",
    "    def prepend(self, data):\n",
    "        new_node = Node(data)\n",
    "        new_node.next = self.head\n",
    "        self.head = new_node\n",
    "\n",
    "    def delete_with_value(self, data):\n",
    "        if not self.head:\n",
    "            return\n",
    "\n",
    "        if self.head.data == data:\n",
    "            self.head = self.head.next\n",
    "            return\n",
    "\n",
    "        current_node = self.head\n",
    "        while current_node.next and current_node.next.data != data:\n",
    "            current_node = current_node.next\n",
    "\n",
    "        if current_node.next:\n",
    "            current_node.next = current_node.next.next\n",
    "\n",
    "    def find(self, data):\n",
    "        current_node = self.head\n",
    "        while current_node:\n",
    "            if current_node.data == data:\n",
    "                return current_node\n",
    "            current_node = current_node.next\n",
    "        return None\n",
    "\n",
    "    def insert_after_node(self, prev_node_data, data):\n",
    "        current_node = self.head\n",
    "        while current_node and current_node.data != prev_node_data:\n",
    "            current_node = current_node.next\n",
    "\n",
    "        if not current_node:\n",
    "            return\n",
    "\n",
    "        new_node = Node(data)\n",
    "        new_node.next = current_node.next\n",
    "        current_node.next = new_node\n",
    "\n",
    "    def __repr__(self):\n",
    "        nodes = []\n",
    "        current_node = self.head\n",
    "        while current_node:\n",
    "            nodes.append(str(current_node.data))\n",
    "            current_node = current_node.next\n",
    "        return \" -> \".join(nodes)\n"
   ]
  },
  {
   "cell_type": "code",
   "execution_count": 3,
   "metadata": {},
   "outputs": [
    {
     "name": "stdout",
     "output_type": "stream",
     "text": [
      "After appending 1, 2, 3: 1 -> 2 -> 3\n",
      "After prepending 0: 0 -> 1 -> 2 -> 3\n",
      "After inserting 1.5 after 1: 0 -> 1 -> 1.5 -> 2 -> 3\n",
      "After deleting 1.5: 0 -> 1 -> 2 -> 3\n",
      "Find node with value 2: Node(2)\n",
      "Is the list empty? False\n",
      "Size of the list: 4\n"
     ]
    }
   ],
   "source": [
    "# Create a linked list\n",
    "ll = LinkedList()\n",
    "\n",
    "# Append elements\n",
    "ll.append(1)\n",
    "ll.append(2)\n",
    "ll.append(3)\n",
    "print(\"After appending 1, 2, 3:\", ll)  # Output: 1 -> 2 -> 3\n",
    "\n",
    "# Prepend elements\n",
    "ll.prepend(0)\n",
    "print(\"After prepending 0:\", ll)  # Output: 0 -> 1 -> 2 -> 3\n",
    "\n",
    "# Insert after a node\n",
    "ll.insert_after_node(1, 1.5)\n",
    "print(\"After inserting 1.5 after 1:\", ll)  # Output: 0 -> 1 -> 1.5 -> 2 -> 3\n",
    "\n",
    "# Delete with value\n",
    "ll.delete_with_value(1.5)\n",
    "print(\"After deleting 1.5:\", ll)  # Output: 0 -> 1 -> 2 -> 3\n",
    "\n",
    "# Find a node\n",
    "node = ll.find(2)\n",
    "print(\"Find node with value 2:\", node)  # Output: Node(2)\n",
    "\n",
    "# Check if list is empty\n",
    "print(\"Is the list empty?\", ll.head is None)  # Output: False\n",
    "\n",
    "# Print the size of the list (using traversal)\n",
    "current_node = ll.head\n",
    "size = 0\n",
    "while current_node:\n",
    "    size += 1\n",
    "    current_node = current_node.next\n",
    "print(\"Size of the list:\", size)  # Output: 4\n"
   ]
  },
  {
   "cell_type": "code",
   "execution_count": null,
   "metadata": {},
   "outputs": [],
   "source": []
  },
  {
   "cell_type": "code",
   "execution_count": 4,
   "metadata": {},
   "outputs": [],
   "source": [
    "## Find the middle element of a linkedlist\n",
    "\n"
   ]
  },
  {
   "cell_type": "code",
   "execution_count": 5,
   "metadata": {},
   "outputs": [],
   "source": [
    "class Node:\n",
    "    def __init__(self, data):\n",
    "        self.data = data\n",
    "        self.next = None\n",
    "\n",
    "class LList:\n",
    "    def __init__(self):\n",
    "        self.head = None\n",
    "    \n",
    "    def add(self, data):\n",
    "        if not self.head:\n",
    "            new_node = Node(data)\n",
    "            self.head = new_node\n",
    "        \n",
    "        current = self.head\n",
    "        while current.next:\n",
    "            current = current.next\n",
    "        new_node = Node(data)\n",
    "        current.next = new_node\n",
    "    \n",
    "    def __repr__(self):\n",
    "        nodes = []\n",
    "        current = self.head\n",
    "        while current:\n",
    "            nodes.append(str(current.data))\n",
    "            current = current.next\n",
    "        return \" -> \".join(nodes)\n",
    "    \n",
    "    def find_middle(self):\n",
    "        slow = self.head\n",
    "        fast = self.head\n",
    "        while fast and fast.next:\n",
    "            slow = slow.next\n",
    "            fast = fast.next.next\n",
    "        return slow.data\n"
   ]
  },
  {
   "cell_type": "code",
   "execution_count": 10,
   "metadata": {},
   "outputs": [
    {
     "name": "stdout",
     "output_type": "stream",
     "text": [
      "1 -> 1 -> 2 -> 3 -> 4 -> 5 -> 6 -> 5 -> 6\n"
     ]
    }
   ],
   "source": [
    "ll = LList()\n",
    "ll.add(1)\n",
    "ll.add(2)\n",
    "ll.add(3)\n",
    "ll.add(4)\n",
    "ll.add(5)\n",
    "ll.add(6)\n",
    "ll.add(5)\n",
    "ll.add(6)\n",
    "\n",
    "print(ll)"
   ]
  },
  {
   "cell_type": "code",
   "execution_count": 11,
   "metadata": {},
   "outputs": [
    {
     "data": {
      "text/plain": [
       "4"
      ]
     },
     "execution_count": 11,
     "metadata": {},
     "output_type": "execute_result"
    }
   ],
   "source": [
    "ll.find_middle()"
   ]
  },
  {
   "cell_type": "code",
   "execution_count": null,
   "metadata": {},
   "outputs": [],
   "source": []
  },
  {
   "cell_type": "code",
   "execution_count": null,
   "metadata": {},
   "outputs": [],
   "source": []
  }
 ],
 "metadata": {
  "kernelspec": {
   "display_name": "llama2",
   "language": "python",
   "name": "python3"
  },
  "language_info": {
   "codemirror_mode": {
    "name": "ipython",
    "version": 3
   },
   "file_extension": ".py",
   "mimetype": "text/x-python",
   "name": "python",
   "nbconvert_exporter": "python",
   "pygments_lexer": "ipython3",
   "version": "3.10.14"
  }
 },
 "nbformat": 4,
 "nbformat_minor": 2
}
