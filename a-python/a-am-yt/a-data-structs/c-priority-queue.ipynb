{
 "cells": [
  {
   "cell_type": "code",
   "execution_count": 3,
   "metadata": {},
   "outputs": [],
   "source": [
    "import heapq\n",
    "\n",
    "class PriorityQueue:\n",
    "    def __init__(self):\n",
    "        self.heap = []\n",
    "\n",
    "    def enqueue(self, item):\n",
    "        heapq.heappush(self.heap, item) # default is min heap\n",
    "\n",
    "    def dequeue(self):\n",
    "        if not self.is_empty():\n",
    "            return heapq.heappop(self.heap)\n",
    "        else:\n",
    "            raise IndexError(\"Dequeue from an empty priority queue\")\n",
    "\n",
    "    def peek(self):\n",
    "        if not self.is_empty():\n",
    "            return self.heap[0]\n",
    "        else:\n",
    "            raise IndexError(\"Peek from an empty priority queue\")\n",
    "\n",
    "    def is_empty(self):\n",
    "        return len(self.heap) == 0\n",
    "\n",
    "    def size(self):\n",
    "        return len(self.heap)\n",
    "\n",
    "    def __str__(self):\n",
    "        return str(self.heap)\n",
    "\n"
   ]
  },
  {
   "cell_type": "code",
   "execution_count": 4,
   "metadata": {},
   "outputs": [
    {
     "name": "stdout",
     "output_type": "stream",
     "text": [
      "Priority Queue after enqueues: [1, 2, 3, 4]\n",
      "Dequeue: 1\n",
      "Priority Queue after dequeue: [2, 4, 3]\n",
      "Peek: 2\n",
      "Priority Queue after peek: [2, 4, 3]\n",
      "Is priority queue empty? False\n",
      "Priority queue size: 3\n"
     ]
    }
   ],
   "source": [
    "# Example Usage\n",
    "pq = PriorityQueue()\n",
    "pq.enqueue(4)\n",
    "pq.enqueue(1)\n",
    "pq.enqueue(3)\n",
    "pq.enqueue(2)\n",
    "\n",
    "print(\"Priority Queue after enqueues:\", pq)  # Output: [1, 2, 3, 4]\n",
    "\n",
    "print(\"Dequeue:\", pq.dequeue())  # Output: 1\n",
    "print(\"Priority Queue after dequeue:\", pq)  # Output: [2, 4, 3]\n",
    "\n",
    "print(\"Peek:\", pq.peek())  # Output: 2\n",
    "print(\"Priority Queue after peek:\", pq)  # Output: [2, 4, 3]\n",
    "\n",
    "print(\"Is priority queue empty?\", pq.is_empty())  # Output: False\n",
    "print(\"Priority queue size:\", pq.size())  # Output: 3\n"
   ]
  },
  {
   "cell_type": "code",
   "execution_count": null,
   "metadata": {},
   "outputs": [],
   "source": []
  },
  {
   "cell_type": "code",
   "execution_count": 1,
   "metadata": {},
   "outputs": [],
   "source": [
    "import heapq\n",
    "\n",
    "class PriorityQueue:\n",
    "    def __init__(self):\n",
    "        self.heap = []\n",
    "\n",
    "    def enqueue(self, item, priority):\n",
    "        heapq.heappush(self.heap, (priority, item)) \n",
    "        \n",
    "    def dequeue(self):\n",
    "        if not self.is_empty():\n",
    "            return heapq.heappop(self.heap)[1]\n",
    "        else:\n",
    "            raise IndexError(\"Dequeue from an empty priority queue\")\n",
    "\n",
    "    def peek(self):\n",
    "        if not self.is_empty():\n",
    "            return self.heap[0][1]\n",
    "        else:\n",
    "            raise IndexError(\"Peek from an empty priority queue\")\n",
    "\n",
    "    def is_empty(self):\n",
    "        return len(self.heap) == 0\n",
    "\n",
    "    def size(self):\n",
    "        return len(self.heap)\n",
    "\n",
    "    def __str__(self):\n",
    "        return str(self.heap)\n",
    "\n"
   ]
  },
  {
   "cell_type": "code",
   "execution_count": 2,
   "metadata": {},
   "outputs": [
    {
     "name": "stdout",
     "output_type": "stream",
     "text": [
      "Priority Queue after enqueues: [(1, 'task2'), (3, 'task1'), (2, 'task3')]\n",
      "Dequeue: task2\n",
      "Priority Queue after dequeue: [(2, 'task3'), (3, 'task1')]\n",
      "Peek: task3\n",
      "Priority Queue after peek: [(2, 'task3'), (3, 'task1')]\n",
      "Is priority queue empty? False\n",
      "Priority queue size: 2\n"
     ]
    }
   ],
   "source": [
    "# Example Usage\n",
    "pq = PriorityQueue()\n",
    "pq.enqueue('task1', 3)\n",
    "pq.enqueue('task2', 1)\n",
    "pq.enqueue('task3', 2)\n",
    "\n",
    "print(\"Priority Queue after enqueues:\", pq)\n",
    "\n",
    "print(\"Dequeue:\", pq.dequeue())\n",
    "print(\"Priority Queue after dequeue:\", pq)\n",
    "\n",
    "print(\"Peek:\", pq.peek())\n",
    "print(\"Priority Queue after peek:\", pq)\n",
    "\n",
    "print(\"Is priority queue empty?\", pq.is_empty())\n",
    "print(\"Priority queue size:\", pq.size())"
   ]
  },
  {
   "cell_type": "code",
   "execution_count": null,
   "metadata": {},
   "outputs": [],
   "source": []
  }
 ],
 "metadata": {
  "kernelspec": {
   "display_name": "llama2",
   "language": "python",
   "name": "python3"
  },
  "language_info": {
   "codemirror_mode": {
    "name": "ipython",
    "version": 3
   },
   "file_extension": ".py",
   "mimetype": "text/x-python",
   "name": "python",
   "nbconvert_exporter": "python",
   "pygments_lexer": "ipython3",
   "version": "3.10.14"
  }
 },
 "nbformat": 4,
 "nbformat_minor": 2
}
