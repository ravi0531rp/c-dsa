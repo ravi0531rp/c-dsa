{
 "cells": [
  {
   "cell_type": "code",
   "execution_count": 3,
   "metadata": {},
   "outputs": [],
   "source": [
    "from collections import deque\n",
    "\n",
    "class Queue:\n",
    "    def __init__(self):\n",
    "        self.items = deque()\n",
    "\n",
    "    def enqueue(self, item):\n",
    "        self.items.append(item)\n",
    "\n",
    "    def dequeue(self):\n",
    "        if not self.is_empty():\n",
    "            return self.items.popleft()\n",
    "        else:\n",
    "            raise IndexError(\"Dequeue from an empty queue\")\n",
    "\n",
    "    def front(self):\n",
    "        if not self.is_empty():\n",
    "            return self.items[0]\n",
    "        else:\n",
    "            raise IndexError(\"Peek from an empty queue\")\n",
    "\n",
    "    def is_empty(self):\n",
    "        return len(self.items) == 0\n",
    "\n",
    "    def size(self):\n",
    "        return len(self.items)\n",
    "\n",
    "    def __str__(self):\n",
    "        return str(self.items)\n",
    "\n"
   ]
  },
  {
   "cell_type": "code",
   "execution_count": 4,
   "metadata": {},
   "outputs": [
    {
     "name": "stdout",
     "output_type": "stream",
     "text": [
      "Queue after enqueues: deque([1, 2, 3])\n",
      "Dequeue: 1\n",
      "Queue after dequeue: deque([2, 3])\n",
      "Front: 2\n",
      "Queue after front: deque([2, 3])\n",
      "Is queue empty? False\n",
      "Queue size: 2\n"
     ]
    }
   ],
   "source": [
    "# Example Usage\n",
    "queue = Queue()\n",
    "queue.enqueue(1)\n",
    "queue.enqueue(2)\n",
    "queue.enqueue(3)\n",
    "print(\"Queue after enqueues:\", queue)\n",
    "\n",
    "print(\"Dequeue:\", queue.dequeue())\n",
    "print(\"Queue after dequeue:\", queue)\n",
    "\n",
    "print(\"Front:\", queue.front())\n",
    "print(\"Queue after front:\", queue)\n",
    "\n",
    "print(\"Is queue empty?\", queue.is_empty())\n",
    "print(\"Queue size:\", queue.size())\n"
   ]
  }
 ],
 "metadata": {
  "kernelspec": {
   "display_name": "llama2",
   "language": "python",
   "name": "python3"
  },
  "language_info": {
   "codemirror_mode": {
    "name": "ipython",
    "version": 3
   },
   "file_extension": ".py",
   "mimetype": "text/x-python",
   "name": "python",
   "nbconvert_exporter": "python",
   "pygments_lexer": "ipython3",
   "version": "3.10.14"
  }
 },
 "nbformat": 4,
 "nbformat_minor": 2
}
