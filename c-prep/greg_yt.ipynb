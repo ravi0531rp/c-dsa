{
 "cells": [
  {
   "cell_type": "code",
   "execution_count": 2,
   "metadata": {},
   "outputs": [],
   "source": [
    "from typing import List, Optional"
   ]
  },
  {
   "cell_type": "code",
   "execution_count": 3,
   "metadata": {},
   "outputs": [
    {
     "name": "stdout",
     "output_type": "stream",
     "text": [
      "True\n"
     ]
    }
   ],
   "source": [
    "\"\"\"\n",
    "Two Sum\n",
    "\"\"\"\n",
    "def two_sum(array: list, target: int): # When list is Unsorted & we have to return count\n",
    "    s = set()\n",
    "    for num in array:\n",
    "        comp = target - num\n",
    "        if comp in s:\n",
    "            return True\n",
    "        s.add(num)\n",
    "    return False\n",
    "\n",
    "arr = [0, -1, 2, -3, 1]\n",
    "target = -2\n",
    "\n",
    "print(two_sum(arr, target))"
   ]
  },
  {
   "cell_type": "code",
   "execution_count": 4,
   "metadata": {},
   "outputs": [
    {
     "name": "stdout",
     "output_type": "stream",
     "text": [
      "False\n"
     ]
    }
   ],
   "source": [
    "def two_sum(array: list, target: int): # When list is Sorted & we have to return count\n",
    "    start_idx = 0\n",
    "    end_idx = len(array) - 1\n",
    "\n",
    "    while start_idx < end_idx:\n",
    "        v1 = array[start_idx]\n",
    "        v2 = array[end_idx]\n",
    "        curr_sum = v1 + v2\n",
    "        if curr_sum == target:\n",
    "            return True\n",
    "        elif curr_sum < target:\n",
    "            start_idx += 1\n",
    "        else:\n",
    "            end_idx -= 1\n",
    "    return False\n",
    "arr = [-1, 0, 3, 4, 6]\n",
    "target = 200\n",
    "\n",
    "print(two_sum(arr, target))"
   ]
  },
  {
   "cell_type": "code",
   "execution_count": 5,
   "metadata": {},
   "outputs": [
    {
     "name": "stdout",
     "output_type": "stream",
     "text": [
      "(2, 7)\n"
     ]
    }
   ],
   "source": [
    "\"\"\"\n",
    "2 Sum – Pair Sum Closest to Target using Binary Search\n",
    "* Given an array arr[] of n integers and an integer target, the task is to find a pair in arr[] such that it’s sum is closest to target.\n",
    "* Note: Return the pair in sorted order and if there are multiple such pairs return the pair with maximum absolute difference. If no such pair exists return an empty array.\n",
    "\"\"\"\n",
    "def two_sum_closest(array : list, target : int):\n",
    "    array.sort()\n",
    "    result = (None, None)\n",
    "\n",
    "    min_diff = float('inf')\n",
    "\n",
    "    start_idx = 0\n",
    "    end_idx = len(array) - 1\n",
    "\n",
    "    while start_idx < end_idx:\n",
    "        el1 = array[start_idx]\n",
    "        el2 = array[end_idx]\n",
    "\n",
    "        curr_sum = el1 + el2\n",
    "        curr_diff = abs(target - curr_sum)\n",
    "        if curr_diff < min_diff:\n",
    "            result = (el1, el2)\n",
    "            min_diff = curr_diff\n",
    "            \n",
    "        if curr_sum < target:\n",
    "            start_idx += 1\n",
    "        elif curr_sum > target:\n",
    "            end_idx -= 1\n",
    "        else:\n",
    "            return result\n",
    "    return result\n",
    "\n",
    "arr = [5, 2, 7, 1, 4]\n",
    "target = 10\n",
    "\n",
    "print(two_sum_closest(arr, target))\n",
    "        "
   ]
  },
  {
   "cell_type": "code",
   "execution_count": 6,
   "metadata": {},
   "outputs": [
    {
     "data": {
      "text/plain": [
       "5"
      ]
     },
     "execution_count": 6,
     "metadata": {},
     "output_type": "execute_result"
    }
   ],
   "source": [
    "\"\"\"\n",
    "Stock Buy and Sell | (DP-35)\n",
    "* Best time to buy and sell stock\n",
    "* We are given an array Arr[] of length n. It represents the price of a stock on ‘n’ days. The following guidelines need to be followed:\n",
    "* We can buy and sell a stock only once.\n",
    "* We can buy and sell the stock on any day but to sell the stock, we need to first buy it on the same or any previous day.\n",
    "* We need to tell the maximum profit one can get by buying and selling this stock.\n",
    "\"\"\"\n",
    "def maxProfit(stock_prices: list):\n",
    "    mini_till_now = stock_prices[0]\n",
    "    max_profit_till_now = 0\n",
    "\n",
    "    for price in stock_prices:\n",
    "        mini_till_now = min(price, mini_till_now)\n",
    "        max_profit_till_now = max(price - mini_till_now, max_profit_till_now)\n",
    "    return max_profit_till_now\n",
    "\n",
    "maxProfit([7,1,5,3,6,4])\n",
    "\n"
   ]
  },
  {
   "cell_type": "code",
   "execution_count": 7,
   "metadata": {},
   "outputs": [
    {
     "data": {
      "text/plain": [
       "6"
      ]
     },
     "execution_count": 7,
     "metadata": {},
     "output_type": "execute_result"
    }
   ],
   "source": [
    "\"\"\"\n",
    "Max sum contigous subarray\n",
    "\"\"\"\n",
    "def maxSubArray(nums: List[int]) -> int:\n",
    "    max_sum = -1*float('inf')\n",
    "    curr_sum = 0\n",
    "    if len(nums) == 1:\n",
    "        return nums[0]\n",
    "    \n",
    "    for i in range(len(nums)):\n",
    "        curr_sum += nums[i]\n",
    "        max_sum = max(max_sum, curr_sum, nums[i])\n",
    "        if curr_sum < 0:\n",
    "            curr_sum = 0\n",
    "        \n",
    "    return max_sum\n",
    "\n",
    "maxSubArray([-2,1,-3,4,-1,2,1,-5,4])"
   ]
  },
  {
   "cell_type": "code",
   "execution_count": 8,
   "metadata": {},
   "outputs": [
    {
     "data": {
      "text/plain": [
       "89"
      ]
     },
     "execution_count": 8,
     "metadata": {},
     "output_type": "execute_result"
    }
   ],
   "source": [
    "\"\"\"\n",
    "Climbing Stairs\n",
    "You are climbing a staircase. It takes n steps to reach the top.\n",
    "Each time you can either climb 1 or 2 steps. In how many distinct ways can you climb to the top?\n",
    "\"\"\"\n",
    "\n",
    "def climbStairs(n: int) -> int:\n",
    "    if n == 1:\n",
    "        return 1\n",
    "    if n == 2:\n",
    "        return 2\n",
    "    ways = [0]*(n+1)\n",
    "    ways[1] = 1\n",
    "    ways[2] = 2 \n",
    "\n",
    "    for idx in range(3, n+1):\n",
    "        ways[idx] = ways[idx-1] + ways[idx-2]\n",
    "    return ways[-1]\n",
    "\n",
    "climbStairs(10)"
   ]
  },
  {
   "cell_type": "code",
   "execution_count": 9,
   "metadata": {},
   "outputs": [
    {
     "data": {
      "text/plain": [
       "144"
      ]
     },
     "execution_count": 9,
     "metadata": {},
     "output_type": "execute_result"
    }
   ],
   "source": [
    "\"\"\"\n",
    "Maximum Product Subarray\n",
    "Given an integer array nums, find a \n",
    "subarray that has the largest product, and return the product.\n",
    "\n",
    "The test cases are generated so that the answer will fit in a 32-bit integer.\n",
    "Example 1:\n",
    "\n",
    "Input: nums = [2,3,-2,4]\n",
    "Output: 6\n",
    "Explanation: [2,3] has the largest product 6.\n",
    "\"\"\"\n",
    "\n",
    "def maxProduct(nums: List[int]) -> int:\n",
    "    pos_max = nums[0]\n",
    "    neg_min = nums[0]\n",
    "    max_prod = nums[0]\n",
    "\n",
    "    idx = 1\n",
    "    while idx < len(nums):\n",
    "        curr = nums[idx]\n",
    "        current_pos_max_prod = pos_max*curr\n",
    "        current_neg_min_prod = neg_min*curr\n",
    "        pos_max = max(curr, current_pos_max_prod, current_neg_min_prod)\n",
    "        neg_min = min(curr, current_pos_max_prod, current_neg_min_prod)\n",
    "        max_prod = max(pos_max, max_prod)\n",
    "        idx += 1\n",
    "    return max_prod\n",
    "\n",
    "\n",
    "maxProduct([2,3,-2,4, -3])"
   ]
  },
  {
   "cell_type": "code",
   "execution_count": 10,
   "metadata": {},
   "outputs": [
    {
     "data": {
      "text/plain": [
       "[0, 0, 9, 0, 0]"
      ]
     },
     "execution_count": 10,
     "metadata": {},
     "output_type": "execute_result"
    }
   ],
   "source": [
    "\"\"\"\n",
    "Product of Array Except Self\n",
    "\n",
    "Given an integer array nums, return an array answer such that answer[i] is equal to the product of all the elements of nums except nums[i].\n",
    "The product of any prefix or suffix of nums is guaranteed to fit in a 32-bit integer.\n",
    "You must write an algorithm that runs in O(n) time and without using the division operation.\n",
    "\n",
    "Example 1:\n",
    "\n",
    "Input: nums = [1,2,3,4]\n",
    "Output: [24,12,8,6]\n",
    "\n",
    "\"\"\"\n",
    "\n",
    "\n",
    "def productExceptSelf(nums: List[int]) -> List[int]:\n",
    "    n = len(nums)\n",
    "    left_prods = [1]*n\n",
    "    right_prods = [1]*n\n",
    "    results = []\n",
    "\n",
    "    for idx in range(1, n):\n",
    "        left_prods[idx] = left_prods[idx - 1]* nums[idx - 1]\n",
    "    for idx in range(n-2, -1, -1):\n",
    "        right_prods[idx] = right_prods[idx + 1]* nums[idx + 1]\n",
    "    for idx in range(n):\n",
    "        results.append(right_prods[idx]*left_prods[idx])\n",
    "    return results\n",
    "\n",
    "productExceptSelf([-1,1,0,-3,3])"
   ]
  },
  {
   "cell_type": "code",
   "execution_count": 11,
   "metadata": {},
   "outputs": [
    {
     "data": {
      "text/plain": [
       "3"
      ]
     },
     "execution_count": 11,
     "metadata": {},
     "output_type": "execute_result"
    }
   ],
   "source": [
    "\"\"\"\n",
    "Longest Substring Without Repeating Characters\n",
    "Given a string s, find the length of the longest \n",
    "substring without repeating characters.\n",
    "Example 1:\n",
    "\n",
    "Input: s = \"abcabcbb\"\n",
    "Output: 3\n",
    "Explanation: The answer is \"abc\", with the length of 3.\n",
    "\"\"\"\n",
    "\n",
    "def lengthOfLongestSubstring(s: str) -> int:\n",
    "    seen = set()\n",
    "    l = 0\n",
    "    r = 0\n",
    "    max_length = 0\n",
    "\n",
    "    while r < len(s):\n",
    "        while s[r] in seen:\n",
    "            seen.remove(s[l])  \n",
    "            l += 1             \n",
    "\n",
    "        seen.add(s[r])\n",
    "        curr_len = r - l + 1\n",
    "        max_length = max(curr_len, max_length)\n",
    "        r += 1\n",
    "    return max_length\n",
    "\n",
    "lengthOfLongestSubstring(\"abcabcbb\")\n"
   ]
  },
  {
   "cell_type": "code",
   "execution_count": 12,
   "metadata": {},
   "outputs": [
    {
     "data": {
      "text/plain": [
       "12.75"
      ]
     },
     "execution_count": 12,
     "metadata": {},
     "output_type": "execute_result"
    }
   ],
   "source": [
    "\"\"\"\n",
    "Maximum Average Subarray I\n",
    "\n",
    "You are given an integer array nums consisting of n elements, and an integer k.\n",
    "Find a contiguous subarray whose length is equal to k that has the maximum average value and return this value. Any answer with a calculation error less than 10-5 will be accepted.\n",
    "\n",
    "Example 1:\n",
    "\n",
    "Input: nums = [1,12,-5,-6,50,3], k = 4\n",
    "Output: 12.75000\n",
    "Explanation: Maximum average is (12 - 5 - 6 + 50) / 4 = 51 / 4 = 12.75\n",
    "\"\"\"\n",
    "def findMaxAverage(nums: List[int], k: int) -> float:\n",
    "    curr_sum = sum(nums[:k])\n",
    "    max_sum = curr_sum\n",
    "    i = 1\n",
    "    while i + k - 1 < len(nums):\n",
    "        curr_sum += nums[i+k-1] - nums[i-1]\n",
    "        max_sum = max(max_sum, curr_sum)\n",
    "        i += 1\n",
    "    return max_sum/k\n",
    "\n",
    "findMaxAverage([1,12,-5,-6,50,3], 4)"
   ]
  },
  {
   "cell_type": "code",
   "execution_count": 15,
   "metadata": {},
   "outputs": [
    {
     "name": "stdout",
     "output_type": "stream",
     "text": [
      "[2, 3, 7, 18]\n"
     ]
    },
    {
     "data": {
      "text/plain": [
       "4"
      ]
     },
     "execution_count": 15,
     "metadata": {},
     "output_type": "execute_result"
    }
   ],
   "source": [
    "\"\"\"\n",
    "Longest Increasing Subsequence\n",
    "\n",
    "Given an integer array nums, return the length of the longest strictly increasing subsequence\n",
    "\n",
    "Example 1:\n",
    "\n",
    "Input: nums = [10,9,2,5,3,7,101,18]\n",
    "Output: 4\n",
    "Explanation: The longest increasing subsequence is [2,3,7,101], therefore the length is 4.\n",
    "\n",
    "\"\"\"\n",
    "\n",
    "def lengthOfLIS(nums: List[int]) -> int:\n",
    "    n = len(nums)\n",
    "    idx = 1\n",
    "    inc_subseq = [nums[0]]\n",
    "\n",
    "    while idx < n:\n",
    "        if nums[idx] > inc_subseq[-1]:\n",
    "            inc_subseq.append(nums[idx])\n",
    "        else:\n",
    "            for i in range(len(inc_subseq)):\n",
    "                if inc_subseq[i] >= nums[idx]:\n",
    "                    inc_subseq[i] = nums[idx]\n",
    "                    break\n",
    "        idx +=1\n",
    "    print(inc_subseq)\n",
    "    return len(inc_subseq)\n",
    "\n",
    "lengthOfLIS([10,9,2,5,3,7,101,18])"
   ]
  },
  {
   "cell_type": "code",
   "execution_count": 17,
   "metadata": {},
   "outputs": [
    {
     "data": {
      "text/plain": [
       "3"
      ]
     },
     "execution_count": 17,
     "metadata": {},
     "output_type": "execute_result"
    }
   ],
   "source": [
    "\"\"\"\n",
    "Coin Change\n",
    "You are given an integer array coins representing coins of different denominations and an integer amount representing a total amount of money.\n",
    "Return the fewest number of coins that you need to make up that amount. If that amount of money cannot be made up by any combination of the coins, return -1.\n",
    "\n",
    "You may assume that you have an infinite number of each kind of coin.\n",
    "\n",
    "Example 1:\n",
    "\n",
    "Input: coins = [1,2,5], amount = 11\n",
    "Output: 3\n",
    "Explanation: 11 = 5 + 5 + 1\n",
    "\n",
    "\"\"\"\n",
    "\n",
    "import math\n",
    "\n",
    "def coinChange(coins: List[int], amount: int) -> int:\n",
    "    if not amount:\n",
    "        return 0\n",
    "    dp = [float('inf')] * (amount + 1)\n",
    "    dp[0] = 0\n",
    "    idx = 1\n",
    "    while idx <= amount:\n",
    "        for coin in coins:\n",
    "            if coin <= idx:\n",
    "                dp[idx] = min(dp[idx], 1 + dp[idx - coin])\n",
    "        idx += 1\n",
    "    return -1 if math.isinf(dp[-1]) else dp[-1]\n",
    "\n",
    "coinChange([1,2,5], 11)"
   ]
  },
  {
   "cell_type": "code",
   "execution_count": 18,
   "metadata": {},
   "outputs": [
    {
     "data": {
      "text/plain": [
       "4"
      ]
     },
     "execution_count": 18,
     "metadata": {},
     "output_type": "execute_result"
    }
   ],
   "source": [
    "\"\"\"\n",
    "Coin Change 2\n",
    "\n",
    "You are given an integer array coins representing coins of different denominations and an integer amount representing a total amount of money.\n",
    "\n",
    "Return the number of combinations that make up that amount. If that amount of money cannot be made up by any combination of the coins, return 0.\n",
    "\n",
    "You may assume that you have an infinite number of each kind of coin.\n",
    "Example 1:\n",
    "\n",
    "Input: amount = 5, coins = [1,2,5]\n",
    "Output: 4\n",
    "Explanation: there are four ways to make up the amount:\n",
    "5=5\n",
    "5=2+2+1\n",
    "5=2+1+1+1\n",
    "5=1+1+1+1+1\n",
    "\"\"\"\n",
    "\n",
    "def change(amount: int, coins: List[int]) -> int:\n",
    "    dp = [0] * (amount + 1)\n",
    "    dp[0] = 1\n",
    "    for coin in coins:\n",
    "        idx = coin\n",
    "        while idx <= amount:\n",
    "            dp[idx] = dp[idx] + dp[idx - coin]\n",
    "            idx += 1\n",
    "    return dp[-1]\n",
    "\n",
    "change(5, [1,2,5])"
   ]
  },
  {
   "cell_type": "code",
   "execution_count": null,
   "metadata": {},
   "outputs": [],
   "source": [
    "\"\"\"\n",
    "Is Subsequence\n",
    "Given two strings s and t, return true if s is a subsequence of t, or false otherwise.\n",
    "\n",
    "A subsequence of a string is a new string that is formed from the original string by \n",
    "deleting some (can be none) of the characters without disturbing the relative \n",
    "positions of the remaining characters. (i.e., \"ace\" is a subsequence of \"abcde\" \n",
    "while \"aec\" is not).\n",
    "\n",
    "Example 1:\n",
    "\n",
    "Input: s = \"abc\", t = \"ahbgdc\"\n",
    "Output: true\n",
    "\n",
    "\"\"\"\n",
    "\n",
    "class Solution:\n",
    "    def isSubsequence(self, s: str, t: str) -> bool:\n",
    "        p1 = 0\n",
    "        p2 = 0\n",
    "        is_subsequence = False\n",
    "        if not len(s):\n",
    "            return True\n",
    "        if not len(t):\n",
    "            return False\n",
    "        while p1 < len(s) and p2 < len(t):\n",
    "            if s[p1] == t[p2]:\n",
    "                p1 +=1\n",
    "                p2 +=1\n",
    "                if p1 == len(s):\n",
    "                    is_subsequence = True\n",
    "                    break\n",
    "            else:\n",
    "                p2 += 1\n",
    "        return is_subsequence\n",
    "                \n",
    "        "
   ]
  },
  {
   "cell_type": "code",
   "execution_count": null,
   "metadata": {},
   "outputs": [],
   "source": [
    "\"\"\"\n",
    "Longest Common Prefix\n",
    "Write a function to find the longest common prefix string amongst an array of strings.\n",
    "\n",
    "If there is no common prefix, return an empty string \"\".\n",
    "Example 1:\n",
    "\n",
    "Input: strs = [\"flower\",\"flow\",\"flight\"]\n",
    "Output: \"fl\"\n",
    "\n",
    "\"\"\"\n",
    "\n",
    "def longestCommonPrefix(strs: List[str]) -> str:\n",
    "    if len(strs) == 1:\n",
    "        return strs[0]\n",
    "    start = 0\n",
    "    longest = []\n",
    "\n",
    "    min_len = len(strs[0])\n",
    "    done = False\n",
    "\n",
    "    for st in strs:\n",
    "        min_len = min(min_len, len(st))\n",
    "    \n",
    "    while start < min_len and not done:\n",
    "        for idx in range(len(strs)):\n",
    "            if strs[idx][start] != strs[0][start]:\n",
    "                done = True\n",
    "                break\n",
    "        if not done:\n",
    "            longest.append(strs[idx][start])\n",
    "        start += 1\n",
    "    return \"\".join(longest)"
   ]
  },
  {
   "cell_type": "code",
   "execution_count": 20,
   "metadata": {},
   "outputs": [
    {
     "data": {
      "text/plain": [
       "True"
      ]
     },
     "execution_count": 20,
     "metadata": {},
     "output_type": "execute_result"
    }
   ],
   "source": [
    "\"\"\"\n",
    "Ransom Note\n",
    "\n",
    "Given two strings ransomNote and magazine, return true if ransomNote can be \n",
    "constructed by using the letters from magazine and false otherwise.\n",
    "Each letter in magazine can only be used once in ransomNote.\n",
    "Example 1:\n",
    "\n",
    "Input: ransomNote = \"a\", magazine = \"b\"\n",
    "Output: false\n",
    "Example 2:\n",
    "\n",
    "Input: ransomNote = \"aa\", magazine = \"ab\"\n",
    "Output: false\n",
    "\"\"\"\n",
    "\n",
    "from collections import Counter\n",
    "def canConstruct(ransomNote: str, magazine: str) -> bool:\n",
    "    freq = Counter(magazine)\n",
    "    for st in ransomNote:\n",
    "        if not st in freq.keys():\n",
    "            return False\n",
    "        if freq[st] == 0:\n",
    "            return False\n",
    "        freq[st] -= 1\n",
    "    return True\n",
    "\n",
    "canConstruct(\"Ransom\", \"My Ransom Note\")"
   ]
  },
  {
   "cell_type": "code",
   "execution_count": null,
   "metadata": {},
   "outputs": [],
   "source": [
    "\"\"\"\n",
    "Invert Binary Tree\n",
    "\n",
    "Given the root of a binary tree, invert the tree, and return its root.\n",
    "\"\"\"\n",
    "\n",
    "from collections import deque\n",
    "\n",
    "\n",
    "class TreeNode:\n",
    "    def __init__(self, val=0, left=None, right=None):\n",
    "        self.val = val\n",
    "        self.left = left\n",
    "        self.right = right\n",
    "\n",
    "def invertTree(root: Optional[TreeNode]) -> Optional[TreeNode]:\n",
    "    if root is None:\n",
    "        return None\n",
    "    queue = deque([root])\n",
    "    while queue:\n",
    "        node = queue.popleft()\n",
    "        node.left, node.right = node.right, node.left\n",
    "\n",
    "        if node.left:\n",
    "            queue.append(node.left)\n",
    "        if node.right:\n",
    "            queue.append(node.right)\n",
    "    return root"
   ]
  },
  {
   "cell_type": "code",
   "execution_count": null,
   "metadata": {},
   "outputs": [],
   "source": [
    "\"\"\"\n",
    "543. Diameter of Binary Tree\n",
    "\n",
    "Given the root of a binary tree, return the length of the diameter of the tree.\n",
    "The diameter of a binary tree is the length of the longest path between any two \n",
    "nodes in a tree. This path may or may not pass through the root.\n",
    "The length of a path between two nodes is represented by the number of edges between them.\n",
    "Example 1:\n",
    "\n",
    "Input: root = [1,2,3,4,5]\n",
    "Output: 3\n",
    "Explanation: 3 is the length of the path [4,2,1,3] or [5,2,1,3].\n",
    "\n",
    "\"\"\"\n",
    "class TreeNode:\n",
    "    def __init__(self, val=0, left=None, right=None):\n",
    "        self.val = val\n",
    "        self.left = left\n",
    "        self.right = right\n",
    "\n",
    "def diameterOfBinaryTree(root: Optional[TreeNode]) -> int:\n",
    "    max_diameter = [0] # python trick to access this value inside get_height\n",
    "    if root is None:\n",
    "        return 0\n",
    "    def get_height(node):\n",
    "        if node is None:\n",
    "            return 0\n",
    "        left_height = get_height(node.left)\n",
    "        right_height = get_height(node.right)\n",
    "\n",
    "        max_diameter[0] = max(max_diameter[0], left_height + right_height)\n",
    "\n",
    "        return 1 + max(left_height, right_height)\n",
    "    get_height(root)\n",
    "    return max_diameter[0]"
   ]
  },
  {
   "cell_type": "code",
   "execution_count": 6,
   "metadata": {},
   "outputs": [],
   "source": [
    "\"\"\"\n",
    "Balanced Binary Tree\n",
    "\n",
    "Given a binary tree, determine if it is \n",
    "height-balanced\n",
    "\n",
    "\"\"\"\n",
    "\n",
    "def isBalanced(root: Optional[TreeNode]) -> bool:\n",
    "    if root is None:\n",
    "        return True\n",
    "    is_balanced = [True]\n",
    "    def get_height(node):\n",
    "        if node is None:\n",
    "            return 0\n",
    "        left_height = get_height(node.left)\n",
    "        right_height = get_height(node.right)\n",
    "        if abs(left_height - right_height) > 1:\n",
    "            is_balanced[0] = False\n",
    "        return 1 + max(left_height, right_height)\n",
    "    get_height(root)\n",
    "    return is_balanced[0]"
   ]
  },
  {
   "cell_type": "code",
   "execution_count": null,
   "metadata": {},
   "outputs": [],
   "source": []
  },
  {
   "cell_type": "code",
   "execution_count": null,
   "metadata": {},
   "outputs": [],
   "source": []
  },
  {
   "cell_type": "code",
   "execution_count": null,
   "metadata": {},
   "outputs": [],
   "source": []
  },
  {
   "cell_type": "code",
   "execution_count": null,
   "metadata": {},
   "outputs": [],
   "source": []
  },
  {
   "cell_type": "code",
   "execution_count": null,
   "metadata": {},
   "outputs": [],
   "source": []
  },
  {
   "cell_type": "code",
   "execution_count": null,
   "metadata": {},
   "outputs": [],
   "source": []
  },
  {
   "cell_type": "code",
   "execution_count": null,
   "metadata": {},
   "outputs": [],
   "source": []
  },
  {
   "cell_type": "code",
   "execution_count": null,
   "metadata": {},
   "outputs": [],
   "source": []
  },
  {
   "cell_type": "code",
   "execution_count": null,
   "metadata": {},
   "outputs": [],
   "source": []
  },
  {
   "cell_type": "code",
   "execution_count": null,
   "metadata": {},
   "outputs": [],
   "source": []
  },
  {
   "cell_type": "code",
   "execution_count": null,
   "metadata": {},
   "outputs": [],
   "source": []
  },
  {
   "cell_type": "code",
   "execution_count": null,
   "metadata": {},
   "outputs": [],
   "source": []
  },
  {
   "cell_type": "code",
   "execution_count": null,
   "metadata": {},
   "outputs": [],
   "source": []
  },
  {
   "cell_type": "code",
   "execution_count": null,
   "metadata": {},
   "outputs": [],
   "source": []
  },
  {
   "cell_type": "code",
   "execution_count": null,
   "metadata": {},
   "outputs": [],
   "source": []
  },
  {
   "cell_type": "code",
   "execution_count": null,
   "metadata": {},
   "outputs": [],
   "source": []
  },
  {
   "cell_type": "code",
   "execution_count": null,
   "metadata": {},
   "outputs": [],
   "source": []
  },
  {
   "cell_type": "code",
   "execution_count": null,
   "metadata": {},
   "outputs": [],
   "source": []
  },
  {
   "cell_type": "code",
   "execution_count": null,
   "metadata": {},
   "outputs": [],
   "source": []
  },
  {
   "cell_type": "code",
   "execution_count": null,
   "metadata": {},
   "outputs": [],
   "source": []
  },
  {
   "cell_type": "code",
   "execution_count": null,
   "metadata": {},
   "outputs": [],
   "source": []
  },
  {
   "cell_type": "code",
   "execution_count": null,
   "metadata": {},
   "outputs": [],
   "source": []
  },
  {
   "cell_type": "code",
   "execution_count": null,
   "metadata": {},
   "outputs": [],
   "source": []
  },
  {
   "cell_type": "code",
   "execution_count": null,
   "metadata": {},
   "outputs": [],
   "source": []
  },
  {
   "cell_type": "code",
   "execution_count": null,
   "metadata": {},
   "outputs": [],
   "source": []
  },
  {
   "cell_type": "code",
   "execution_count": null,
   "metadata": {},
   "outputs": [],
   "source": []
  },
  {
   "cell_type": "code",
   "execution_count": null,
   "metadata": {},
   "outputs": [],
   "source": []
  },
  {
   "cell_type": "code",
   "execution_count": null,
   "metadata": {},
   "outputs": [],
   "source": []
  },
  {
   "cell_type": "code",
   "execution_count": null,
   "metadata": {},
   "outputs": [],
   "source": []
  },
  {
   "cell_type": "code",
   "execution_count": null,
   "metadata": {},
   "outputs": [],
   "source": []
  },
  {
   "cell_type": "code",
   "execution_count": null,
   "metadata": {},
   "outputs": [],
   "source": []
  },
  {
   "cell_type": "code",
   "execution_count": null,
   "metadata": {},
   "outputs": [],
   "source": []
  },
  {
   "cell_type": "code",
   "execution_count": null,
   "metadata": {},
   "outputs": [],
   "source": []
  },
  {
   "cell_type": "code",
   "execution_count": null,
   "metadata": {},
   "outputs": [],
   "source": []
  },
  {
   "cell_type": "code",
   "execution_count": null,
   "metadata": {},
   "outputs": [],
   "source": []
  },
  {
   "cell_type": "code",
   "execution_count": null,
   "metadata": {},
   "outputs": [],
   "source": []
  },
  {
   "cell_type": "code",
   "execution_count": null,
   "metadata": {},
   "outputs": [],
   "source": []
  },
  {
   "cell_type": "code",
   "execution_count": null,
   "metadata": {},
   "outputs": [],
   "source": []
  },
  {
   "cell_type": "code",
   "execution_count": null,
   "metadata": {},
   "outputs": [],
   "source": []
  },
  {
   "cell_type": "code",
   "execution_count": null,
   "metadata": {},
   "outputs": [],
   "source": []
  },
  {
   "cell_type": "code",
   "execution_count": null,
   "metadata": {},
   "outputs": [],
   "source": []
  },
  {
   "cell_type": "code",
   "execution_count": null,
   "metadata": {},
   "outputs": [],
   "source": []
  },
  {
   "cell_type": "code",
   "execution_count": null,
   "metadata": {},
   "outputs": [],
   "source": []
  },
  {
   "cell_type": "code",
   "execution_count": null,
   "metadata": {},
   "outputs": [],
   "source": []
  },
  {
   "cell_type": "code",
   "execution_count": null,
   "metadata": {},
   "outputs": [],
   "source": []
  },
  {
   "cell_type": "code",
   "execution_count": null,
   "metadata": {},
   "outputs": [],
   "source": []
  },
  {
   "cell_type": "code",
   "execution_count": null,
   "metadata": {},
   "outputs": [],
   "source": []
  },
  {
   "cell_type": "code",
   "execution_count": null,
   "metadata": {},
   "outputs": [],
   "source": []
  },
  {
   "cell_type": "code",
   "execution_count": null,
   "metadata": {},
   "outputs": [],
   "source": []
  },
  {
   "cell_type": "code",
   "execution_count": null,
   "metadata": {},
   "outputs": [],
   "source": []
  },
  {
   "cell_type": "code",
   "execution_count": null,
   "metadata": {},
   "outputs": [],
   "source": []
  },
  {
   "cell_type": "code",
   "execution_count": null,
   "metadata": {},
   "outputs": [],
   "source": []
  },
  {
   "cell_type": "code",
   "execution_count": null,
   "metadata": {},
   "outputs": [],
   "source": []
  },
  {
   "cell_type": "code",
   "execution_count": null,
   "metadata": {},
   "outputs": [],
   "source": []
  },
  {
   "cell_type": "code",
   "execution_count": null,
   "metadata": {},
   "outputs": [],
   "source": []
  },
  {
   "cell_type": "code",
   "execution_count": null,
   "metadata": {},
   "outputs": [],
   "source": []
  },
  {
   "cell_type": "code",
   "execution_count": null,
   "metadata": {},
   "outputs": [],
   "source": []
  },
  {
   "cell_type": "code",
   "execution_count": null,
   "metadata": {},
   "outputs": [],
   "source": []
  },
  {
   "cell_type": "code",
   "execution_count": null,
   "metadata": {},
   "outputs": [],
   "source": []
  },
  {
   "cell_type": "code",
   "execution_count": null,
   "metadata": {},
   "outputs": [],
   "source": []
  },
  {
   "cell_type": "code",
   "execution_count": null,
   "metadata": {},
   "outputs": [],
   "source": []
  },
  {
   "cell_type": "code",
   "execution_count": null,
   "metadata": {},
   "outputs": [],
   "source": []
  },
  {
   "cell_type": "code",
   "execution_count": null,
   "metadata": {},
   "outputs": [],
   "source": []
  },
  {
   "cell_type": "code",
   "execution_count": null,
   "metadata": {},
   "outputs": [],
   "source": []
  },
  {
   "cell_type": "code",
   "execution_count": null,
   "metadata": {},
   "outputs": [],
   "source": []
  },
  {
   "cell_type": "code",
   "execution_count": null,
   "metadata": {},
   "outputs": [],
   "source": []
  },
  {
   "cell_type": "code",
   "execution_count": null,
   "metadata": {},
   "outputs": [],
   "source": []
  },
  {
   "cell_type": "code",
   "execution_count": null,
   "metadata": {},
   "outputs": [],
   "source": []
  },
  {
   "cell_type": "code",
   "execution_count": null,
   "metadata": {},
   "outputs": [],
   "source": []
  },
  {
   "cell_type": "code",
   "execution_count": null,
   "metadata": {},
   "outputs": [],
   "source": []
  },
  {
   "cell_type": "code",
   "execution_count": null,
   "metadata": {},
   "outputs": [],
   "source": []
  }
 ],
 "metadata": {
  "kernelspec": {
   "display_name": "langchain-env",
   "language": "python",
   "name": "python3"
  },
  "language_info": {
   "codemirror_mode": {
    "name": "ipython",
    "version": 3
   },
   "file_extension": ".py",
   "mimetype": "text/x-python",
   "name": "python",
   "nbconvert_exporter": "python",
   "pygments_lexer": "ipython3",
   "version": "3.11.10"
  }
 },
 "nbformat": 4,
 "nbformat_minor": 2
}
