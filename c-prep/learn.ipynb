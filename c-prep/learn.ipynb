{
 "cells": [
  {
   "cell_type": "markdown",
   "metadata": {},
   "source": [
    "### Stack & Queue"
   ]
  },
  {
   "cell_type": "code",
   "execution_count": 1,
   "metadata": {},
   "outputs": [
    {
     "name": "stdout",
     "output_type": "stream",
     "text": [
      "[1, 2, 3, 4, 5, 3]\n"
     ]
    }
   ],
   "source": [
    "a = [1,2,3,4,5]\n",
    "\n",
    "a.append(3)\n",
    "print(a)"
   ]
  },
  {
   "cell_type": "code",
   "execution_count": 2,
   "metadata": {},
   "outputs": [
    {
     "data": {
      "text/plain": [
       "3"
      ]
     },
     "execution_count": 2,
     "metadata": {},
     "output_type": "execute_result"
    }
   ],
   "source": [
    "a.pop()"
   ]
  },
  {
   "cell_type": "code",
   "execution_count": 3,
   "metadata": {},
   "outputs": [
    {
     "data": {
      "text/plain": [
       "[1, 2, 3, 4, 5]"
      ]
     },
     "execution_count": 3,
     "metadata": {},
     "output_type": "execute_result"
    }
   ],
   "source": [
    "a"
   ]
  },
  {
   "cell_type": "code",
   "execution_count": null,
   "metadata": {},
   "outputs": [],
   "source": [
    "from collections import deque # because it is a double ended queue(add & pop stuff to both the sides)\n",
    "\n"
   ]
  },
  {
   "cell_type": "code",
   "execution_count": 8,
   "metadata": {},
   "outputs": [
    {
     "data": {
      "text/plain": [
       "deque([4, 3, 5])"
      ]
     },
     "execution_count": 8,
     "metadata": {},
     "output_type": "execute_result"
    }
   ],
   "source": [
    "q = deque()\n",
    "q.append(4)\n",
    "q.append(3)\n",
    "q.append(5)\n",
    "q"
   ]
  },
  {
   "cell_type": "code",
   "execution_count": 9,
   "metadata": {},
   "outputs": [
    {
     "data": {
      "text/plain": [
       "5"
      ]
     },
     "execution_count": 9,
     "metadata": {},
     "output_type": "execute_result"
    }
   ],
   "source": [
    "q.pop() # right"
   ]
  },
  {
   "cell_type": "code",
   "execution_count": 10,
   "metadata": {},
   "outputs": [
    {
     "data": {
      "text/plain": [
       "4"
      ]
     },
     "execution_count": 10,
     "metadata": {},
     "output_type": "execute_result"
    }
   ],
   "source": [
    "q.popleft() # the correct queue operations since the leftmost came first"
   ]
  },
  {
   "cell_type": "code",
   "execution_count": null,
   "metadata": {},
   "outputs": [],
   "source": []
  },
  {
   "cell_type": "code",
   "execution_count": null,
   "metadata": {},
   "outputs": [],
   "source": [
    "def binary_search(data : list, target : int) -> bool:\n",
    "    n = len(data)\n",
    "    middle = data[n//2]\n",
    "    if len(data) == 1:\n",
    "        return data[0] == target\n",
    "    if middle == target:\n",
    "        return True\n",
    "    if middle > target:\n",
    "        return binary_search(data[:n//2], target)\n",
    "    else:\n",
    "        return binary_search(data[n//2 : ], target)\n"
   ]
  },
  {
   "cell_type": "code",
   "execution_count": 17,
   "metadata": {},
   "outputs": [
    {
     "data": {
      "text/plain": [
       "False"
      ]
     },
     "execution_count": 17,
     "metadata": {},
     "output_type": "execute_result"
    }
   ],
   "source": [
    "def binary_search(data: list, target: int) -> bool:\n",
    "    left, right = 0, len(data) - 1\n",
    "\n",
    "    while left <= right:\n",
    "        mid = (left + right) // 2\n",
    "        if data[mid] == target:\n",
    "            return True\n",
    "        elif data[mid] > target:\n",
    "            right = mid - 1\n",
    "        else:\n",
    "            left = mid + 1\n",
    "\n",
    "    return False\n",
    "\n",
    "\n",
    "arr = [1,3,4,5,66, 6, 79,7]\n",
    "target = 66\n",
    "\n",
    "binary_search(arr, target)\n"
   ]
  },
  {
   "cell_type": "code",
   "execution_count": 25,
   "metadata": {},
   "outputs": [
    {
     "data": {
      "text/plain": [
       "4"
      ]
     },
     "execution_count": 25,
     "metadata": {},
     "output_type": "execute_result"
    }
   ],
   "source": [
    "def find_first_false(array: list) -> int:\n",
    "    l = 0\n",
    "    r = len(array) - 1\n",
    "    result = -1\n",
    "    while l <= r:            \n",
    "        mid = (l+r)//2\n",
    "        if array[mid] == False:\n",
    "            result = mid\n",
    "            r = mid - 1\n",
    "        else:\n",
    "            l = mid + 1\n",
    "    return result\n",
    "\n",
    "find_first_false([True, True, True, True, False, False, False])\n"
   ]
  },
  {
   "cell_type": "code",
   "execution_count": 29,
   "metadata": {},
   "outputs": [],
   "source": [
    "from collections import deque\n",
    "\n",
    "class TreeNode:\n",
    "    def __init__(self, val):\n",
    "        self.val = val\n",
    "        self.left = None\n",
    "        self.right = None\n",
    "\n",
    "\n",
    "def create_tree(array: list):\n",
    "    if not len(array) or array[0] is None:\n",
    "        return None\n",
    "    \n",
    "    root = TreeNode(array[0])\n",
    "    index = 1\n",
    "    queue = deque([root])\n",
    "    while queue and index < len(array):\n",
    "        current_node = queue.popleft()\n",
    "        \n",
    "        if index < len(array) and array[index] is not None:\n",
    "            current_node.left = TreeNode(array[index])\n",
    "            queue.append(current_node.left)  # because the tree is constructed in a level order way\n",
    "        index += 1\n",
    "\n",
    "        if index < len(array) and array[index] is not None:\n",
    "            current_node.right = TreeNode(array[index])\n",
    "            queue.append(current_node.right)\n",
    "        index += 1\n",
    "\n",
    "    return root\n",
    "\n"
   ]
  },
  {
   "cell_type": "code",
   "execution_count": 30,
   "metadata": {},
   "outputs": [
    {
     "name": "stdout",
     "output_type": "stream",
     "text": [
      "Inorder DFS Traversal:\n",
      "4 2 1 5 3 6 \n",
      "Preorder DFS Traversal:\n",
      "1 2 4 3 5 6 \n",
      "Postorder DFS Traversal:\n",
      "4 2 5 6 3 1 "
     ]
    }
   ],
   "source": [
    "def dfs_inorder(node):\n",
    "    if not node:\n",
    "        return\n",
    "    dfs_inorder(node.left)\n",
    "    print(node.val, end=' ')\n",
    "    dfs_inorder(node.right)\n",
    "\n",
    "# Depth-First Search (DFS) - Preorder Traversal\n",
    "def dfs_preorder(node):\n",
    "    if not node:\n",
    "        return\n",
    "    print(node.val, end=' ')\n",
    "    dfs_preorder(node.left)\n",
    "    dfs_preorder(node.right)\n",
    "\n",
    "# Depth-First Search (DFS) - Postorder Traversal\n",
    "def dfs_postorder(node):\n",
    "    if not node:\n",
    "        return\n",
    "    dfs_postorder(node.left)\n",
    "    dfs_postorder(node.right)\n",
    "    print(node.val, end=' ')\n",
    "\n",
    "# Example usage\n",
    "values = [1, 2, 3, 4, None, 5, 6]  # Example list\n",
    "root = create_tree(values)\n",
    "\n",
    "print(\"Inorder DFS Traversal:\")\n",
    "dfs_inorder(root)  \n",
    "\n",
    "print(\"\\nPreorder DFS Traversal:\")\n",
    "dfs_preorder(root)  \n",
    "\n",
    "print(\"\\nPostorder DFS Traversal:\")\n",
    "dfs_postorder(root)  "
   ]
  },
  {
   "cell_type": "code",
   "execution_count": 1,
   "metadata": {},
   "outputs": [],
   "source": [
    "class TreeNode:\n",
    "    def __init__(self, val=0, left=None, right=None):\n",
    "        self.val = val\n",
    "        self.left = left\n",
    "        self.right = right\n",
    "\n",
    "class BST:\n",
    "    def __init__(self):\n",
    "        self.root = None\n",
    "\n",
    "    def insert(self, val):\n",
    "        if self.root is None:\n",
    "            self.root = TreeNode(val)\n",
    "        else:\n",
    "            self._insert(self.root, val)\n",
    "\n",
    "    def _insert(self, node, val):\n",
    "        if val < node.val:\n",
    "            if node.left is None:\n",
    "                node.left = TreeNode(val)\n",
    "            else:\n",
    "                self._insert(node.left, val)\n",
    "        else:\n",
    "            if node.right is None:\n",
    "                node.right = TreeNode(val)\n",
    "            else:\n",
    "                self._insert(node.right, val)\n",
    "\n",
    "bst = BST()\n",
    "bst.insert(10)\n",
    "bst.insert(5)\n",
    "bst.insert(15)\n",
    "bst.insert(3)\n",
    "bst.insert(7)\n",
    "bst.insert(12)\n",
    "bst.insert(18)\n",
    "\n"
   ]
  },
  {
   "cell_type": "code",
   "execution_count": null,
   "metadata": {},
   "outputs": [],
   "source": [
    "def search_bst(root , val):\n",
    "    if root is None:\n",
    "        return None\n",
    "    if root.val == val:\n",
    "        return True\n",
    "    if val < root.val:\n",
    "        return search_bst(root.left, val)\n",
    "    else:\n",
    "        return search_bst(root.right, val)"
   ]
  },
  {
   "cell_type": "code",
   "execution_count": null,
   "metadata": {},
   "outputs": [],
   "source": []
  },
  {
   "cell_type": "code",
   "execution_count": 2,
   "metadata": {},
   "outputs": [
    {
     "data": {
      "text/plain": [
       "[-4, 0, 1, 3, 2, 5, 10, 8, 12, 9]"
      ]
     },
     "execution_count": 2,
     "metadata": {},
     "output_type": "execute_result"
    }
   ],
   "source": [
    "A = [-4, 3, 1, 0, 2, 5, 10, 8, 12, 9]\n",
    "\n",
    "import heapq\n",
    "\n",
    "heapq.heapify(A)\n",
    "A"
   ]
  },
  {
   "cell_type": "code",
   "execution_count": 3,
   "metadata": {},
   "outputs": [],
   "source": [
    "heapq.heappush(A, 4)"
   ]
  },
  {
   "cell_type": "code",
   "execution_count": 4,
   "metadata": {},
   "outputs": [
    {
     "data": {
      "text/plain": [
       "[-4, 0, 1, 3, 2, 5, 10, 8, 12, 9, 4]"
      ]
     },
     "execution_count": 4,
     "metadata": {},
     "output_type": "execute_result"
    }
   ],
   "source": [
    "A # create a binary tree to better visualize"
   ]
  },
  {
   "cell_type": "code",
   "execution_count": 7,
   "metadata": {},
   "outputs": [
    {
     "data": {
      "text/plain": [
       "-4"
      ]
     },
     "execution_count": 7,
     "metadata": {},
     "output_type": "execute_result"
    }
   ],
   "source": [
    "minn = heapq.heappop(A)\n",
    "minn"
   ]
  },
  {
   "cell_type": "code",
   "execution_count": 8,
   "metadata": {},
   "outputs": [
    {
     "data": {
      "text/plain": [
       "[0, 2, 1, 3, 4, 5, 10, 8, 12, 9]"
      ]
     },
     "execution_count": 8,
     "metadata": {},
     "output_type": "execute_result"
    }
   ],
   "source": [
    "A"
   ]
  },
  {
   "cell_type": "code",
   "execution_count": null,
   "metadata": {},
   "outputs": [],
   "source": [
    "## Heap sort (nlogn, n)"
   ]
  },
  {
   "cell_type": "code",
   "execution_count": 11,
   "metadata": {},
   "outputs": [],
   "source": [
    "def heapsort(arr):\n",
    "    heapq.heapify(arr)\n",
    "    n = len(arr)\n",
    "    new_list = [0]*n\n",
    "    for i in range(n):\n",
    "        minn = heapq.heappop(arr)\n",
    "        new_list[i] = minn\n",
    "    return new_list"
   ]
  },
  {
   "cell_type": "code",
   "execution_count": 12,
   "metadata": {},
   "outputs": [
    {
     "data": {
      "text/plain": [
       "[-1, 2, 3, 4, 5, 22, 33]"
      ]
     },
     "execution_count": 12,
     "metadata": {},
     "output_type": "execute_result"
    }
   ],
   "source": [
    "heapsort([3,2,4,5,-1,33,22])"
   ]
  },
  {
   "cell_type": "code",
   "execution_count": null,
   "metadata": {},
   "outputs": [],
   "source": [
    "## Tuples in Heap"
   ]
  },
  {
   "cell_type": "code",
   "execution_count": 13,
   "metadata": {},
   "outputs": [],
   "source": [
    "a = [1,2,3,1,2,4,5,6,3,1,3,5,7,8,1]\n",
    "\n",
    "from collections import Counter"
   ]
  },
  {
   "cell_type": "code",
   "execution_count": 14,
   "metadata": {},
   "outputs": [],
   "source": [
    "ctr = Counter(a)"
   ]
  },
  {
   "cell_type": "code",
   "execution_count": 15,
   "metadata": {},
   "outputs": [
    {
     "data": {
      "text/plain": [
       "Counter({1: 4, 3: 3, 2: 2, 5: 2, 4: 1, 6: 1, 7: 1, 8: 1})"
      ]
     },
     "execution_count": 15,
     "metadata": {},
     "output_type": "execute_result"
    }
   ],
   "source": [
    "ctr"
   ]
  },
  {
   "cell_type": "code",
   "execution_count": 16,
   "metadata": {},
   "outputs": [],
   "source": [
    "vals = []\n",
    "\n",
    "for k,v in ctr.items():\n",
    "    heapq.heappush(vals, (v,k))\n",
    "\n"
   ]
  },
  {
   "cell_type": "code",
   "execution_count": 17,
   "metadata": {},
   "outputs": [
    {
     "data": {
      "text/plain": [
       "[(1, 4), (1, 8), (1, 6), (2, 2), (2, 5), (3, 3), (1, 7), (4, 1)]"
      ]
     },
     "execution_count": 17,
     "metadata": {},
     "output_type": "execute_result"
    }
   ],
   "source": [
    "vals"
   ]
  },
  {
   "cell_type": "markdown",
   "metadata": {},
   "source": [
    "### Sorting"
   ]
  },
  {
   "cell_type": "code",
   "execution_count": null,
   "metadata": {},
   "outputs": [],
   "source": [
    "\n",
    "## Insertions Sort"
   ]
  },
  {
   "cell_type": "code",
   "execution_count": 27,
   "metadata": {},
   "outputs": [],
   "source": []
  },
  {
   "cell_type": "code",
   "execution_count": 40,
   "metadata": {},
   "outputs": [],
   "source": [
    "def swap(a, b):\n",
    "    return b, a\n",
    "\n",
    "def insertion_sort(arr: list) -> list:\n",
    "    i = 1\n",
    "    while i < len(arr):\n",
    "        j = i \n",
    "        while j > 0:\n",
    "            if arr[j] < arr[j - 1]:\n",
    "                arr[j], arr[j - 1] = arr[j-1], arr[j]\n",
    "            j -= 1\n",
    "        i +=1\n",
    "    return arr"
   ]
  },
  {
   "cell_type": "code",
   "execution_count": 41,
   "metadata": {},
   "outputs": [
    {
     "data": {
      "text/plain": [
       "[-4, -1, 1, 2, 3, 55]"
      ]
     },
     "execution_count": 41,
     "metadata": {},
     "output_type": "execute_result"
    }
   ],
   "source": [
    "insertion_sort([1,2,3,-1,-4,55])"
   ]
  },
  {
   "cell_type": "code",
   "execution_count": null,
   "metadata": {},
   "outputs": [],
   "source": []
  },
  {
   "cell_type": "code",
   "execution_count": null,
   "metadata": {},
   "outputs": [],
   "source": [
    "## Graph"
   ]
  },
  {
   "cell_type": "code",
   "execution_count": 44,
   "metadata": {},
   "outputs": [
    {
     "data": {
      "text/plain": [
       "[[0, 1], [1, 2], [0, 3], [3, 4], [3, 6], [3, 7], [4, 2], [4, 5], [5, 2]]"
      ]
     },
     "execution_count": 44,
     "metadata": {},
     "output_type": "execute_result"
    }
   ],
   "source": [
    "## array of edges\n",
    "\n",
    "n = 8\n",
    "A = [[0,1], [1,2], [0,3], [3,4] , [3,6], [3,7], [4,2], [4,5], [5,2]]\n",
    "A"
   ]
  },
  {
   "cell_type": "code",
   "execution_count": 47,
   "metadata": {},
   "outputs": [],
   "source": [
    "## Adjacency matrix\n",
    "\n",
    "M = []\n",
    "\n",
    "for i in range(n):\n",
    "    M.append([0]*n)\n",
    "\n",
    "\n",
    "for u,v in A:\n",
    "    M[u][v] = 1\n",
    "\n",
    "    M[v][u] = 1 # if undirected"
   ]
  },
  {
   "cell_type": "code",
   "execution_count": 48,
   "metadata": {},
   "outputs": [
    {
     "data": {
      "text/plain": [
       "[[0, 1, 0, 1, 0, 0, 0, 0],\n",
       " [1, 0, 1, 0, 0, 0, 0, 0],\n",
       " [0, 1, 0, 0, 1, 1, 0, 0],\n",
       " [1, 0, 0, 0, 1, 0, 1, 1],\n",
       " [0, 0, 1, 1, 0, 1, 0, 0],\n",
       " [0, 0, 1, 0, 1, 0, 0, 0],\n",
       " [0, 0, 0, 1, 0, 0, 0, 0],\n",
       " [0, 0, 0, 1, 0, 0, 0, 0]]"
      ]
     },
     "execution_count": 48,
     "metadata": {},
     "output_type": "execute_result"
    }
   ],
   "source": [
    "M"
   ]
  },
  {
   "cell_type": "code",
   "execution_count": 49,
   "metadata": {},
   "outputs": [
    {
     "data": {
      "text/plain": [
       "defaultdict(list, {})"
      ]
     },
     "execution_count": 49,
     "metadata": {},
     "output_type": "execute_result"
    }
   ],
   "source": [
    "# Adjacency List\n",
    "\n",
    "from collections import defaultdict\n",
    "\n",
    "A = [[0,1], [1,2], [0,3], [3,4] , [3,6], [3,7], [4,2], [4,5], [5,2]]\n",
    "\n",
    "D = defaultdict(list)\n",
    "\n",
    "D"
   ]
  },
  {
   "cell_type": "code",
   "execution_count": 50,
   "metadata": {},
   "outputs": [],
   "source": [
    "for u,v in A:\n",
    "    D[u].append(v)"
   ]
  },
  {
   "cell_type": "code",
   "execution_count": 51,
   "metadata": {},
   "outputs": [
    {
     "data": {
      "text/plain": [
       "defaultdict(list, {5: [2], 0: [1, 3], 1: [2], 3: [4, 6, 7], 4: [2, 5]})"
      ]
     },
     "execution_count": 51,
     "metadata": {},
     "output_type": "execute_result"
    }
   ],
   "source": [
    "D"
   ]
  },
  {
   "cell_type": "code",
   "execution_count": 52,
   "metadata": {},
   "outputs": [
    {
     "data": {
      "text/plain": [
       "[4, 6, 7]"
      ]
     },
     "execution_count": 52,
     "metadata": {},
     "output_type": "execute_result"
    }
   ],
   "source": [
    "D[3]"
   ]
  },
  {
   "cell_type": "code",
   "execution_count": 58,
   "metadata": {},
   "outputs": [
    {
     "name": "stdout",
     "output_type": "stream",
     "text": [
      "0\n",
      "1\n",
      "2\n",
      "3\n",
      "4\n",
      "5\n",
      "6\n",
      "7\n"
     ]
    }
   ],
   "source": [
    "## DFS with Recursion\n",
    "\n",
    "seen = set()\n",
    "\n",
    "def dfs_recursive(D, node):\n",
    "    print(node)\n",
    "    for neighbour in D[node]:\n",
    "        if neighbour not in seen:\n",
    "            seen.add(neighbour)\n",
    "            dfs_recursive(D, neighbour)\n",
    "\n",
    "source = 0\n",
    "seen.add(source)\n",
    "dfs_recursive(D, source)\n",
    "        \n"
   ]
  },
  {
   "cell_type": "code",
   "execution_count": 64,
   "metadata": {},
   "outputs": [
    {
     "name": "stdout",
     "output_type": "stream",
     "text": [
      "4\n",
      "5\n",
      "2\n"
     ]
    }
   ],
   "source": [
    "## DFS with Stack\n",
    "\n",
    "source = 4\n",
    "stack = [source]\n",
    "seen = set()\n",
    "seen.add(source)\n",
    "\n",
    "while stack:\n",
    "    curr = stack.pop()\n",
    "    print(curr)\n",
    "    for neighbour in D[curr]:\n",
    "        if neighbour not in seen:\n",
    "            seen.add(neighbour)\n",
    "            stack.append(neighbour)\n"
   ]
  },
  {
   "cell_type": "code",
   "execution_count": 66,
   "metadata": {},
   "outputs": [
    {
     "name": "stdout",
     "output_type": "stream",
     "text": [
      "0\n",
      "1\n",
      "3\n",
      "2\n",
      "4\n",
      "6\n",
      "7\n",
      "5\n"
     ]
    }
   ],
   "source": [
    "# BFS with Queue\n",
    "\n",
    "from collections import deque\n",
    "\n",
    "seen = set()\n",
    "source = 0\n",
    "seen.add(source)\n",
    "queue = deque([source])\n",
    "\n",
    "while queue:\n",
    "    node = queue.popleft()\n",
    "    print(node)\n",
    "\n",
    "    for neighbour in D[node]:\n",
    "        if neighbour not in seen:\n",
    "            queue.append(neighbour)\n",
    "            seen.add(neighbour)\n",
    "\n",
    "\n",
    "\n"
   ]
  },
  {
   "cell_type": "code",
   "execution_count": null,
   "metadata": {},
   "outputs": [],
   "source": [
    "## 2 pointer -> Squares in sorted order from a sorted non-decreasing list"
   ]
  },
  {
   "cell_type": "code",
   "execution_count": 73,
   "metadata": {},
   "outputs": [
    {
     "name": "stdout",
     "output_type": "stream",
     "text": [
      "[1, 4, 9, 16, 25, 9801, 11664]\n"
     ]
    }
   ],
   "source": [
    "from typing import List\n",
    "def squares(array : List[int]) -> List[int]:\n",
    "    \"\"\"\n",
    "    Trick is that even after squaring, value on the extremes have to be the greatest. \n",
    "\n",
    "    \"\"\"\n",
    "    n = len(array)\n",
    "    results = []\n",
    "    l = 0\n",
    "    r = n - 1\n",
    "\n",
    "    while l <= r:\n",
    "        if array[l] ** 2 < array[r] ** 2:\n",
    "            results.append(array[r]**2)\n",
    "            r -= 1\n",
    "        else:\n",
    "            results.append(array[l]**2)\n",
    "            l += 1\n",
    "    return results[::-1]\n",
    "\n",
    "\n",
    "print(squares([-5, -4, -3, -2, -1, 99, 108]))\n"
   ]
  },
  {
   "cell_type": "code",
   "execution_count": null,
   "metadata": {},
   "outputs": [],
   "source": [
    "class Solution:        \n",
    "    def lengthOfLongestSubstring(self, s: str) -> int:\n",
    "        seen = set()\n",
    "        l = 0\n",
    "        r = 0\n",
    "        max_length = 0\n",
    "\n",
    "        while r < len(s):\n",
    "            while s[r] in seen:\n",
    "                seen.remove(s[l])  \n",
    "                l += 1             \n",
    "\n",
    "            seen.add(s[r])\n",
    "            curr_len = r - l + 1\n",
    "            max_length = max(curr_len, max_length)\n",
    "            r += 1\n",
    "        return max_length\n"
   ]
  },
  {
   "cell_type": "code",
   "execution_count": null,
   "metadata": {},
   "outputs": [],
   "source": [
    "class Solution:\n",
    "    def findMaxAverage(self, nums: List[int], k: int) -> float:\n",
    "        curr_sum = sum(nums[:k])\n",
    "        max_sum = curr_sum\n",
    "        i = 1\n",
    "        while i + k - 1 < len(nums):\n",
    "            curr_sum += nums[i+k-1] - nums[i-1]\n",
    "            max_sum = max(max_sum, curr_sum)\n",
    "            i += 1\n",
    "        return max_sum/k"
   ]
  },
  {
   "cell_type": "code",
   "execution_count": null,
   "metadata": {},
   "outputs": [],
   "source": [
    "class Solution:\n",
    "    def maxSubArray(self, nums: List[int]) -> int:\n",
    "        max_sum = -1*float('inf')\n",
    "        curr_sum = 0\n",
    "        if len(nums) == 1:\n",
    "            return nums[0]\n",
    "        \n",
    "        for i in range(len(nums)):\n",
    "            curr_sum += nums[i]\n",
    "            max_sum = max(max_sum, curr_sum, nums[i])\n",
    "            if curr_sum < 0:\n",
    "                curr_sum = 0\n",
    "            \n",
    "        return max_sum"
   ]
  },
  {
   "cell_type": "code",
   "execution_count": 74,
   "metadata": {},
   "outputs": [
    {
     "name": "stdout",
     "output_type": "stream",
     "text": [
      "[1, 2]\n",
      "[1]\n",
      "[1]\n",
      "[]\n",
      "[2]\n",
      "[]\n",
      "[]\n",
      "[[], [1], [1, 2], [1, 2, 3], [1, 3], [2], [2, 3], [3]]\n"
     ]
    }
   ],
   "source": []
  },
  {
   "cell_type": "code",
   "execution_count": null,
   "metadata": {},
   "outputs": [],
   "source": []
  },
  {
   "cell_type": "code",
   "execution_count": null,
   "metadata": {},
   "outputs": [],
   "source": []
  },
  {
   "cell_type": "code",
   "execution_count": null,
   "metadata": {},
   "outputs": [],
   "source": []
  },
  {
   "cell_type": "code",
   "execution_count": null,
   "metadata": {},
   "outputs": [],
   "source": []
  },
  {
   "cell_type": "code",
   "execution_count": null,
   "metadata": {},
   "outputs": [],
   "source": []
  },
  {
   "cell_type": "code",
   "execution_count": null,
   "metadata": {},
   "outputs": [],
   "source": []
  },
  {
   "cell_type": "code",
   "execution_count": null,
   "metadata": {},
   "outputs": [],
   "source": []
  },
  {
   "cell_type": "code",
   "execution_count": null,
   "metadata": {},
   "outputs": [],
   "source": []
  },
  {
   "cell_type": "code",
   "execution_count": null,
   "metadata": {},
   "outputs": [],
   "source": []
  },
  {
   "cell_type": "code",
   "execution_count": null,
   "metadata": {},
   "outputs": [],
   "source": []
  },
  {
   "cell_type": "code",
   "execution_count": null,
   "metadata": {},
   "outputs": [],
   "source": []
  },
  {
   "cell_type": "code",
   "execution_count": null,
   "metadata": {},
   "outputs": [],
   "source": []
  },
  {
   "cell_type": "code",
   "execution_count": null,
   "metadata": {},
   "outputs": [],
   "source": []
  },
  {
   "cell_type": "code",
   "execution_count": null,
   "metadata": {},
   "outputs": [],
   "source": []
  },
  {
   "cell_type": "code",
   "execution_count": null,
   "metadata": {},
   "outputs": [],
   "source": []
  },
  {
   "cell_type": "code",
   "execution_count": null,
   "metadata": {},
   "outputs": [],
   "source": []
  },
  {
   "cell_type": "code",
   "execution_count": null,
   "metadata": {},
   "outputs": [],
   "source": []
  },
  {
   "cell_type": "code",
   "execution_count": null,
   "metadata": {},
   "outputs": [],
   "source": []
  },
  {
   "cell_type": "code",
   "execution_count": null,
   "metadata": {},
   "outputs": [],
   "source": []
  },
  {
   "cell_type": "code",
   "execution_count": null,
   "metadata": {},
   "outputs": [],
   "source": []
  },
  {
   "cell_type": "code",
   "execution_count": null,
   "metadata": {},
   "outputs": [],
   "source": []
  },
  {
   "cell_type": "code",
   "execution_count": null,
   "metadata": {},
   "outputs": [],
   "source": []
  },
  {
   "cell_type": "code",
   "execution_count": null,
   "metadata": {},
   "outputs": [],
   "source": []
  },
  {
   "cell_type": "code",
   "execution_count": null,
   "metadata": {},
   "outputs": [],
   "source": []
  },
  {
   "cell_type": "code",
   "execution_count": null,
   "metadata": {},
   "outputs": [],
   "source": []
  },
  {
   "cell_type": "code",
   "execution_count": null,
   "metadata": {},
   "outputs": [],
   "source": []
  }
 ],
 "metadata": {
  "kernelspec": {
   "display_name": "langchain-env",
   "language": "python",
   "name": "python3"
  },
  "language_info": {
   "codemirror_mode": {
    "name": "ipython",
    "version": 3
   },
   "file_extension": ".py",
   "mimetype": "text/x-python",
   "name": "python",
   "nbconvert_exporter": "python",
   "pygments_lexer": "ipython3",
   "version": "3.11.10"
  }
 },
 "nbformat": 4,
 "nbformat_minor": 2
}
